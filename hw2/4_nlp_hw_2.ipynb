{
 "cells": [
  {
   "cell_type": "code",
   "execution_count": 509,
   "id": "a0a40719",
   "metadata": {},
   "outputs": [],
   "source": [
    "import pandas as pd\n",
    "import re\n",
    "\n",
    "from collections import defaultdict, Counter\n",
    "from math import log2, sqrt"
   ]
  },
  {
   "cell_type": "code",
   "execution_count": 60,
   "id": "51f7b836",
   "metadata": {},
   "outputs": [],
   "source": [
    "met = 'meta_Video_Games.json.gz'\n",
    "rev = 'Video_Games.json.gz'"
   ]
  },
  {
   "cell_type": "code",
   "execution_count": 61,
   "id": "9e7af004",
   "metadata": {},
   "outputs": [],
   "source": [
    "reviews = pd.read_json(rev, lines=True)"
   ]
  },
  {
   "cell_type": "code",
   "execution_count": 62,
   "id": "f50320f9",
   "metadata": {},
   "outputs": [],
   "source": [
    "meta = pd.read_json(met, lines=True)"
   ]
  },
  {
   "cell_type": "code",
   "execution_count": 91,
   "id": "88273286",
   "metadata": {},
   "outputs": [],
   "source": [
    "asins = set(meta['asin'].tolist())\n",
    "reviews_cl = reviews.loc[reviews['asin'].isin(asins)]"
   ]
  },
  {
   "cell_type": "markdown",
   "id": "5a0c39d3",
   "metadata": {},
   "source": [
    "_Тут раньше были примеры того, вы выглядят эти таблицы, но на гитхаб не может их корректно отобразить, поэтому их пришлось убрать._"
   ]
  },
  {
   "cell_type": "markdown",
   "id": "1a3fbd94",
   "metadata": {},
   "source": [
    "### Задание 1.\n",
    "\n",
    "\n",
    "1. Можно попробовать искать в отзывах те слова, которые встречаются в названии товара/бренда (сохраняя порядок). А также самые часто упоминаемые слова в принципе: для этого раздела это \"product\" \"game\", \"item\".\n",
    "2. Можно искать в отзывах те существительные, которые чаще всего повторяются в этих отзывах (если бы на каждый товар было по многу отзывов, можно было бы смотреть для каждого товара в отдельности).\n",
    "3. Можно условно считать, что в отзыве слова, написанные с большой буквы -- это названия товара (хотя не все так делают). \n",
    "\n",
    "Я выбрала первый подход.\n",
    "\n",
    "Эти подходы не учитывают случаи, когда используются _this_ или _it_ для отсылки на товар; автоматически сложно определить такую референцию. Также конкретно в этой теме по играм бывает такое, что игра называется, например, _Middle Earth_, а в отзыве пишут о франшизе _Lord of the Rings_. Кроме того, в отзывах часто могут писать аббревиатуры (_LOTR_), которых нет в названии игры -- можно было бы попробовать доставать их из названия (_Grand Theft Auto: Vice City_ -> _GTA VC_), однако и тут всё неоднозначно: иногда служебные части речи пропускаются в аббревиатурах, иногда не полностью название игры становится аббревиатурой (как узнать, где она заканчивается?), и, наконец, в случаях вроде _Playstation 3_ -> _PS3_, где аббревиатура делается из одного слова."
   ]
  },
  {
   "cell_type": "markdown",
   "id": "1e44d86e",
   "metadata": {},
   "source": [
    "### Задание 2."
   ]
  },
  {
   "cell_type": "code",
   "execution_count": 261,
   "id": "2decfad6",
   "metadata": {},
   "outputs": [],
   "source": [
    "title_dict = {}\n",
    "asins = meta['asin']\n",
    "titles = meta['title']\n",
    "assert len(asins) == len(titles)\n",
    "for i in range(len(asins)):\n",
    "    title_dict[asins[i]] = titles[i]"
   ]
  },
  {
   "cell_type": "code",
   "execution_count": 418,
   "id": "9184a4cb",
   "metadata": {},
   "outputs": [],
   "source": [
    "def find_title_occurrences(title, review):\n",
    "    \n",
    "    occurences, spans = [], []\n",
    "    punct = ',.:;\"()-+!?'\n",
    "    try:\n",
    "        title = title.lower()\n",
    "        review = review.lower()\n",
    "        title = re.sub(r'(?<! )(?=[,.:;\"\\(\\)\\-+!?])|(?<=[,.:;\"\\(\\)\\-+!?])(?! )', r' ', title)\n",
    "        words = title.split()\n",
    "        reg = r'game(?<=\\b)|product(?<=\\b)|item(?<=\\b)|\\b' # commonly found words in reviews\n",
    "        for word in words:\n",
    "            if word in punct:\n",
    "                word = \"\\\\\"+word\n",
    "            reg += f\"({word} )?\"\n",
    "\n",
    "        for i in re.finditer(reg, review):\n",
    "            if len(i.group().strip()) > 2 and i.group().strip() not in ['the', 'and', 'off', 'for', 'one',\n",
    "                                                                       'with', 'not', 'of the', 'of a',\n",
    "                                                                       'on the', 'on a', 'new']:\n",
    "                span = i.span()\n",
    "                if i.group()[0] == ' ':\n",
    "                    span = (span[0]+1, span[1])\n",
    "                if i.group()[1] == ' ':\n",
    "                    span = (span[0], span[1]-1)\n",
    "                occurences += [i.group().strip()]\n",
    "                spans += [span]\n",
    "                \n",
    "    except Exception:\n",
    "        pass\n",
    "\n",
    "    return (tuple(occurences), tuple(spans))"
   ]
  },
  {
   "cell_type": "code",
   "execution_count": 626,
   "id": "29be326f",
   "metadata": {},
   "outputs": [
    {
     "name": "stderr",
     "output_type": "stream",
     "text": [
      "C:\\Users\\Katya\\AppData\\Local\\Temp/ipykernel_2352/592046693.py:4: SettingWithCopyWarning: \n",
      "A value is trying to be set on a copy of a slice from a DataFrame.\n",
      "Try using .loc[row_indexer,col_indexer] = value instead\n",
      "\n",
      "See the caveats in the documentation: https://pandas.pydata.org/pandas-docs/stable/user_guide/indexing.html#returning-a-view-versus-a-copy\n",
      "  reviews_cl['title'] = [title_dict[i] for i in reviews_cl['asin']]\n"
     ]
    }
   ],
   "source": [
    "sample = reviews_cl.sample(1000)\n",
    "sample['title'] = [title_dict[i] for i in sample['asin']]\n",
    "\n",
    "reviews_cl['title'] = [title_dict[i] for i in reviews_cl['asin']]"
   ]
  },
  {
   "cell_type": "code",
   "execution_count": 763,
   "id": "18690cfd",
   "metadata": {},
   "outputs": [],
   "source": [
    "sample['NerOccurrences'] = sample.apply(lambda x: find_title_occurrences(x['title'], x['reviewText']), axis=1)\n",
    "#sample.head(5)"
   ]
  },
  {
   "cell_type": "code",
   "execution_count": null,
   "id": "cb6185e5",
   "metadata": {},
   "outputs": [],
   "source": [
    "reviews_cl['NerOccurences'] = reviews_cl.apply(lambda x: find_title_occurrences(x['title'], x['reviewText']), axis=1)\n",
    "#reviews_cl.head(15)\n",
    "\n",
    "# ^ если раскомментить эту строчку, можно увидеть часть получившейся таблицы, но почему-то из-за этого слетает форматирование на гитхабе, поэтому наверное лучше так"
   ]
  },
  {
   "cell_type": "markdown",
   "id": "e69834d6",
   "metadata": {},
   "source": [
    "### Задание 3 (n-граммы)"
   ]
  },
  {
   "cell_type": "code",
   "execution_count": 631,
   "id": "f0869ca8",
   "metadata": {},
   "outputs": [
    {
     "data": {
      "text/plain": [
       "[(('game',), ((20, 24),)),\n",
       " (('game',), ((4, 8),)),\n",
       " (('learning company', 'game'), ((170, 187), (401, 405))),\n",
       " (('product', 'product', 'game'), ((4, 11), (76, 83), (113, 117))),\n",
       " (('learning', 'game', 'learning', 'game'),\n",
       "  ((23, 32), (32, 36), (58, 67), (116, 120))),\n",
       " ((), ()),\n",
       " (('new',), ((65, 69),)),\n",
       " (('game',), ((295, 299),)),\n",
       " (('oregon trail', 'game'), ((72, 85), (219, 223))),\n",
       " (('game', 'game', 'game', 'game'),\n",
       "  ((91, 95), (171, 175), (594, 598), (952, 956)))]"
      ]
     },
     "execution_count": 631,
     "metadata": {},
     "output_type": "execute_result"
    }
   ],
   "source": [
    "texts = reviews_cl['reviewText'].tolist()\n",
    "occ = reviews_cl['NerOccurences'].tolist()\n",
    "assert len(texts) == len(occ)\n",
    "\n",
    "occ[:10]"
   ]
  },
  {
   "cell_type": "code",
   "execution_count": 712,
   "id": "efef8294",
   "metadata": {},
   "outputs": [],
   "source": [
    "ngrams = defaultdict(list)\n",
    "\n",
    "word_counter = Counter()\n",
    "number_of_bigrams = 0\n",
    "\n",
    "for i in range(len(texts)):\n",
    "    text = texts[i]\n",
    "    if isinstance(text, str):\n",
    "        text = re.sub(r'\\s', ' ', text)\n",
    "        number_of_bigrams += text.count(' ')\n",
    "        word_counter.update(re.sub(r',\\.:;\"', '', text).lower().split())\n",
    "    spans = occ[i][1]\n",
    "    occurrences = occ[i][0]\n",
    "    for _, span in enumerate(spans):\n",
    "        s, e = span\n",
    "        ngr_s, ngr_e = 0, len(text)\n",
    "        for n, j in enumerate(text[s-2:0:-1]):\n",
    "            if j in (' ', '\\n'): \n",
    "                ngr_s = s-n-1\n",
    "                break\n",
    "        ngrams[occurrences[_].strip()] += [re.sub('[,:.\"]', '', text[ngr_s:e]).strip('').lower()]\n",
    "        for n, j in enumerate(text[e+1:]):\n",
    "            if j in (' ', '\\n'):\n",
    "                ngr_e = n+e+1\n",
    "                break\n",
    "        ngrams[occurrences[_].strip()] += [re.sub('[,:.\"]', '', text[s:ngr_e]).strip('').lower()]\n",
    "        word_counter.update([occurrences[_].strip()])"
   ]
  },
  {
   "cell_type": "code",
   "execution_count": 713,
   "id": "a2e3bcb1",
   "metadata": {},
   "outputs": [
    {
     "data": {
      "text/plain": [
       "(195456942, 190930840)"
      ]
     },
     "execution_count": 713,
     "metadata": {},
     "output_type": "execute_result"
    }
   ],
   "source": [
    "total_words = sum(word_counter.values())\n",
    "total_words, number_of_bigrams"
   ]
  },
  {
   "cell_type": "code",
   "execution_count": 714,
   "id": "860a7266",
   "metadata": {},
   "outputs": [],
   "source": [
    "for k, v in ngrams.items():\n",
    "    ngrams[k] = Counter(v)"
   ]
  },
  {
   "cell_type": "code",
   "execution_count": 747,
   "id": "b7b40707",
   "metadata": {},
   "outputs": [
    {
     "data": {
      "text/plain": [
       "[('dvd player', 343),\n",
       " ('a dvd ', 224),\n",
       " ('the dvd ', 185),\n",
       " ('dvd drive', 65),\n",
       " ('dvd players', 36),\n",
       " ('this dvd ', 33),\n",
       " ('my dvd ', 32),\n",
       " ('dvd and', 22),\n",
       " ('dvd drives', 22),\n",
       " ('new dvd ', 21)]"
      ]
     },
     "execution_count": 747,
     "metadata": {},
     "output_type": "execute_result"
    }
   ],
   "source": [
    "ngrams['dvd'].most_common(10)"
   ]
  },
  {
   "cell_type": "markdown",
   "id": "e25c18d8",
   "metadata": {},
   "source": [
    "### Задание 4."
   ]
  },
  {
   "cell_type": "markdown",
   "id": "7e5b2972",
   "metadata": {},
   "source": [
    "#### PMI"
   ]
  },
  {
   "cell_type": "code",
   "execution_count": 715,
   "id": "406c982c",
   "metadata": {},
   "outputs": [],
   "source": [
    "def PMI(count, w1_count, w2_count, total_words):\n",
    "    if count > 6:\n",
    "        return log2(count/number_of_bigrams / (w1_count/total_words * w1_count/total_words))\n",
    "    else:\n",
    "        return 0"
   ]
  },
  {
   "cell_type": "code",
   "execution_count": 716,
   "id": "91671312",
   "metadata": {},
   "outputs": [],
   "source": [
    "PMIs = {}\n",
    "\n",
    "for key, ngrams_ in ngrams.items():\n",
    "    for ngram, count in ngrams_.items():\n",
    "        \n",
    "        try:\n",
    "            PMIs[ngram] = PMI(count, \n",
    "                              word_counter[key], \n",
    "                              word_counter[ngram.replace(key, '').strip()],\n",
    "                              total_words)\n",
    "        except Exception:\n",
    "            pass\n",
    "            \n",
    "PMIs = {k:v for k, v in PMIs.items() if k and v}"
   ]
  },
  {
   "cell_type": "code",
   "execution_count": 717,
   "id": "711c6a00",
   "metadata": {},
   "outputs": [
    {
     "data": {
      "text/plain": [
       "[('game (xbox', -14.16091651605012),\n",
       " ('game saves!', -14.16091651605012),\n",
       " ('husbands game', -14.16091651605012),\n",
       " ('game shared', -14.16091651605012),\n",
       " ('game layouts', -14.16091651605012),\n",
       " ('strategy/rpg game', -14.16091651605012),\n",
       " ('gamewhatever', -14.16091651605012),\n",
       " ('game swap', -14.16091651605012),\n",
       " ('eidos game', -14.16091651605012),\n",
       " ('game paved', -14.16091651605012)]"
      ]
     },
     "execution_count": 717,
     "metadata": {},
     "output_type": "execute_result"
    }
   ],
   "source": [
    "[(k,v) for k, v in sorted(PMIs.items(), key=lambda item: item[1])][:10]"
   ]
  },
  {
   "cell_type": "code",
   "execution_count": 718,
   "id": "7adaa884",
   "metadata": {},
   "outputs": [
    {
     "data": {
      "text/plain": [
       "[('007 nightfire', 24.76872133576742),\n",
       " ('lunar silver star story', 24.76872133576742),\n",
       " ('blood of the sacred', 24.76872133576742),\n",
       " ('sacred blood of the', 24.76872133576742),\n",
       " ('mario is missing', 24.76872133576742),\n",
       " ('game boy printer ', 24.76872133576742),\n",
       " ('f-zero maximum velocity ', 24.76872133576742),\n",
       " ('vs snk 2 ', 24.76872133576742),\n",
       " ('daxter the precursor legacy', 24.76872133576742),\n",
       " ('batman dark tomorrow', 24.76872133576742)]"
      ]
     },
     "execution_count": 718,
     "metadata": {},
     "output_type": "execute_result"
    }
   ],
   "source": [
    "[(k,v) for k, v in sorted(PMIs.items(), key=lambda item: item[1], reverse=True)][:10]"
   ]
  },
  {
   "cell_type": "markdown",
   "id": "5bcfac14",
   "metadata": {},
   "source": [
    "#### t-score"
   ]
  },
  {
   "cell_type": "code",
   "execution_count": 719,
   "id": "6f6ba3c2",
   "metadata": {},
   "outputs": [],
   "source": [
    "def tscore(bigram_count, w1_count, w2_count, total):\n",
    "    if bigram_count > 6:\n",
    "        return (bigram_count/number_of_bigrams-w1_count/total*w2_count/total)/sqrt(bigram_count/number_of_bigrams*(1-(bigram_count/number_of_bigrams))/total)\n",
    "    else:\n",
    "        return 0"
   ]
  },
  {
   "cell_type": "code",
   "execution_count": 720,
   "id": "828c2f0a",
   "metadata": {},
   "outputs": [],
   "source": [
    "tscores = {}\n",
    "\n",
    "for key, ngrams_ in ngrams.items():\n",
    "    for ngram, count in ngrams_.items():\n",
    "        \n",
    "        tscores[ngram] = tscore(count, \n",
    "                                word_counter[key], \n",
    "                                word_counter[ngram.replace(key, '').strip()],\n",
    "                               total_words)\n",
    "        \n",
    "        \n",
    "tscores = {k:v for k, v in tscores.items() if len(k.split()) > 1 and v}"
   ]
  },
  {
   "cell_type": "code",
   "execution_count": 721,
   "id": "d2df4f28",
   "metadata": {},
   "outputs": [
    {
     "data": {
      "text/plain": [
       "[('gamea game', -44896.09797081758),\n",
       " ('gamethe game', -39355.18564299205),\n",
       " ('that the', -27781.424132150965),\n",
       " ('and this ', -22150.78187879865),\n",
       " ('have the', -18106.333958925545),\n",
       " ('to you ', -17178.882721924467),\n",
       " ('and that ', -16757.15449897574),\n",
       " ('but the', -14902.875788088384),\n",
       " ('game that ', -13961.735995087767),\n",
       " ('of this ', -11677.21354267972)]"
      ]
     },
     "execution_count": 721,
     "metadata": {},
     "output_type": "execute_result"
    }
   ],
   "source": [
    "[(k,v) for k, v in sorted(tscores.items(), key=lambda item: item[1])][:10]"
   ]
  },
  {
   "cell_type": "code",
   "execution_count": 722,
   "id": "a4c9afd6",
   "metadata": {},
   "outputs": [
    {
     "data": {
      "text/plain": [
       "[('the game', 673.2001435001475),\n",
       " ('game is', 430.5439648289593),\n",
       " ('this mouse ', 171.62924549893324),\n",
       " ('game play', 166.60814352476498),\n",
       " ('game has', 166.31592265898547),\n",
       " ('the mouse ', 141.2297292589814),\n",
       " ('game itself', 125.2830676867813),\n",
       " ('game was', 118.7690701488378),\n",
       " ('this keyboard ', 116.87538184269863),\n",
       " ('this headset ', 115.52629305664041)]"
      ]
     },
     "execution_count": 722,
     "metadata": {},
     "output_type": "execute_result"
    }
   ],
   "source": [
    "[(k,v) for k, v in sorted(tscores.items(), key=lambda item: item[1], reverse=True)][:10]"
   ]
  },
  {
   "cell_type": "markdown",
   "id": "0cd2eebd",
   "metadata": {},
   "source": [
    "#### chi-square"
   ]
  },
  {
   "cell_type": "code",
   "execution_count": 723,
   "id": "15aff681",
   "metadata": {},
   "outputs": [],
   "source": [
    "def chi2(bigram_count, w1_count, w2_count, total):\n",
    "    \n",
    "    if bigram_count > 4:\n",
    "\n",
    "        A = total * (bigram_count * (total-w1_count-w2_count+bigram_count) - (bigram_count-w1_count) * (bigram_count-w2_count))\n",
    "        B = w1_count * w2_count * (bigram_count-w1_count + total-w1_count-w2_count+bigram_count) * (bigram_count-w2_count + total-w1_count-w2_count+bigram_count)\n",
    "\n",
    "        try:\n",
    "            return A/B\n",
    "        except Exception:\n",
    "            return None\n",
    "    else:\n",
    "        return 0"
   ]
  },
  {
   "cell_type": "code",
   "execution_count": 724,
   "id": "73f13ab5",
   "metadata": {},
   "outputs": [],
   "source": [
    "chi2s = {}\n",
    "\n",
    "for key, ngrams_ in ngrams.items():\n",
    "    for ngram, count in ngrams_.items():\n",
    "        \n",
    "        chi2s[ngram] = chi2(count, \n",
    "                            (word_counter[key]), \n",
    "                            (word_counter[ngram.replace(key, '').strip()]),\n",
    "                               total_words)\n",
    "        \n",
    "chi2s = {k:v for k, v in chi2s.items() if k and v}"
   ]
  },
  {
   "cell_type": "code",
   "execution_count": 725,
   "id": "8a503659",
   "metadata": {},
   "outputs": [
    {
     "data": {
      "text/plain": [
       "[('thegame', -6.550816250867923e-09),\n",
       " ('gamethe game', -6.550437673306045e-09),\n",
       " ('gamethe', -6.5395599902223055e-09),\n",
       " ('that the', -6.197435810298198e-09),\n",
       " ('but the', -6.166199049482841e-09),\n",
       " ('have the', -6.1474771429158005e-09),\n",
       " ('like the', -6.0917937528581634e-09),\n",
       " ('the all ', -6.08200282885606e-09),\n",
       " ('great the', -6.07738051975682e-09),\n",
       " ('get the', -6.074702732815047e-09)]"
      ]
     },
     "execution_count": 725,
     "metadata": {},
     "output_type": "execute_result"
    }
   ],
   "source": [
    "[(k,v) for k, v in sorted(chi2s.items(), key=lambda item: item[1])][:10]"
   ]
  },
  {
   "cell_type": "code",
   "execution_count": 726,
   "id": "3ad706f4",
   "metadata": {},
   "outputs": [
    {
     "data": {
      "text/plain": [
       "[('vs street', 0.9999999846513512),\n",
       " ('castlevania symphony of the', 0.9999999846513512),\n",
       " (\"oddworld abe's\", 0.9999999846513512),\n",
       " (\"oddworld munch's oddysee\", 0.9999999846513512),\n",
       " ('batman rise of sin', 0.9999999846513512),\n",
       " ('moon a wonderful life', 0.9999999846513512),\n",
       " ('order criminal intent', 0.9999999846513512),\n",
       " ('spartan total warrior', 0.9999999846513512),\n",
       " ('wars dual strike', 0.9999999846513512),\n",
       " ('ocean blue world', 0.9999999846513512)]"
      ]
     },
     "execution_count": 726,
     "metadata": {},
     "output_type": "execute_result"
    }
   ],
   "source": [
    "[(k,v) for k, v in sorted(chi2s.items(), key=lambda item: item[1], reverse=True)][:10]"
   ]
  },
  {
   "cell_type": "markdown",
   "id": "62e0d746",
   "metadata": {},
   "source": [
    "Результаты хи-квадрат похожи на результаты PMI; t-score склонаяется к _game_, для которого больше всех данных (это слово использовалось во всех отзывах вне зависимости от продукта). Мне больше всего нравится результат PMI."
   ]
  },
  {
   "cell_type": "markdown",
   "id": "e3aa0629",
   "metadata": {},
   "source": [
    "### Задание 5."
   ]
  },
  {
   "cell_type": "code",
   "execution_count": 751,
   "id": "5464f546",
   "metadata": {},
   "outputs": [
    {
     "data": {
      "text/plain": [
       "[('game',\n",
       "  [('the game', 876648),\n",
       "   ('this game', 876289),\n",
       "   ('game', 752911),\n",
       "   ('game is', 324038),\n",
       "   ('a game', 118048)]),\n",
       " ('product',\n",
       "  [('product', 70324),\n",
       "   ('this product', 60999),\n",
       "   ('the product', 35678),\n",
       "   ('great product', 25924),\n",
       "   ('data-hook=product', 14126)]),\n",
       " ('mouse',\n",
       "  [('the mouse ', 45311),\n",
       "   ('this mouse ', 36576),\n",
       "   ('mouse is', 19104),\n",
       "   ('mouse for', 8260),\n",
       "   ('mouse and', 6377)]),\n",
       " ('xbox',\n",
       "  [('the xbox ', 20623),\n",
       "   ('xbox 360', 10232),\n",
       "   ('xbox one', 9486),\n",
       "   ('my xbox ', 8540),\n",
       "   ('xbox live', 8456)]),\n",
       " ('controller',\n",
       "  [('the controller ', 26898),\n",
       "   ('this controller ', 15597),\n",
       "   ('controller is', 9517),\n",
       "   ('controller and', 5703),\n",
       "   ('controller to', 3229)]),\n",
       " ('item',\n",
       "  [('this item', 19938),\n",
       "   ('item', 15261),\n",
       "   ('the item', 11661),\n",
       "   ('', 5084),\n",
       "   ('item was', 4503)]),\n",
       " ('wii',\n",
       "  [('the wii ', 28353),\n",
       "   ('wii remote', 4977),\n",
       "   ('my wii ', 4818),\n",
       "   ('wii u', 4773),\n",
       "   ('a wii ', 4683)]),\n",
       " ('keyboard',\n",
       "  [('this keyboard ', 16827),\n",
       "   ('the keyboard ', 16561),\n",
       "   ('keyboard is', 8920),\n",
       "   ('keyboard for', 4098),\n",
       "   ('keyboard and', 3594)]),\n",
       " ('gaming',\n",
       "  [('for gaming ', 5361),\n",
       "   ('gaming mouse', 4299),\n",
       "   ('gaming and', 3300),\n",
       "   ('a gaming ', 2558),\n",
       "   ('my gaming ', 1775)]),\n",
       " ('headset',\n",
       "  [('the headset ', 20280),\n",
       "   ('this headset ', 16726),\n",
       "   ('headset is', 9270),\n",
       "   ('headset for', 4508),\n",
       "   ('headset and', 3410)])]"
      ]
     },
     "execution_count": 751,
     "metadata": {},
     "output_type": "execute_result"
    }
   ],
   "source": [
    "[(k,v.most_common(5)) for k,v in sorted(ngrams.items(), key=lambda x: len(x[1]), reverse=True)][:10]"
   ]
  },
  {
   "cell_type": "code",
   "execution_count": 758,
   "id": "5baa362a",
   "metadata": {},
   "outputs": [
    {
     "name": "stdout",
     "output_type": "stream",
     "text": [
      "mouse PMI:\n",
      "('the mouse ', 6.561908954774108)\n",
      "('this mouse ', 6.252944932395364)\n",
      "('mouse is', 5.31592236544569)\n",
      "('mouse for', 4.106261310487693)\n",
      "('mouse and', 3.7329974100405403)\n",
      "('a mouse ', 3.3567237679319035)\n",
      "('mouse to', 3.3053109219072807)\n",
      "('mouse i', 3.0027278649546356)\n",
      "('mouse that', 2.9868780608294374)\n",
      "('mouse has', 2.961613983890547)\n",
      "xbox PMI:\n",
      "('the xbox ', 6.247359070361973)\n",
      "('xbox 360', 5.236193024819999)\n",
      "('xbox one', 5.126976629017888)\n",
      "('my xbox ', 4.975412830446214)\n",
      "('xbox live', 4.9611521373210445)\n",
      "('an xbox ', 4.069577685203659)\n",
      "('on xbox ', 3.839462661523706)\n",
      "('xbox and', 3.7191200024914757)\n",
      "('xbox controller', 3.2795271309464136)\n",
      "('for xbox ', 3.162133074431505)\n",
      "controller PMI:\n",
      "('the controller ', 6.30461459549634)\n",
      "('this controller ', 5.518384251326978)\n",
      "('controller is', 4.80569446648155)\n",
      "('controller and', 4.066908628094204)\n",
      "('controller to', 3.2462750363384765)\n",
      "('my controller ', 3.1309839707156644)\n",
      "('a controller ', 3.104610341133246)\n",
      "('controller for', 3.0907429287858927)\n",
      "('controller that', 2.963355966094689)\n",
      "('controller was', 2.714170846546969)\n",
      "wii PMI:\n",
      "('the wii ', 7.34872969443115)\n",
      "('wii remote', 4.838576593326327)\n",
      "('my wii ', 4.7917345998877785)\n",
      "('wii u', 4.778196542701512)\n",
      "('a wii ', 4.750733244348373)\n",
      "('wii fit', 4.615845947854961)\n",
      "('wii and', 4.166694659791287)\n",
      "('wii games', 3.9573278809749928)\n",
      "('wii sports', 3.951978616259625)\n",
      "('wii is', 3.7669692872782576)\n",
      "keyboard PMI:\n",
      "('this keyboard ', 7.465823694331901)\n",
      "('the keyboard ', 7.442835494951095)\n",
      "('keyboard is', 6.550161320736627)\n",
      "('keyboard for', 5.428037594940207)\n",
      "('keyboard and', 5.238708019438902)\n",
      "('a keyboard ', 4.559833055557469)\n",
      "('keyboard to', 4.381529636315835)\n",
      "('keyboard that', 4.229849691050183)\n",
      "('keyboard has', 4.169642762012959)\n",
      "('keyboard i', 4.087329218358938)\n"
     ]
    }
   ],
   "source": [
    "keys = ['mouse', 'xbox', 'controller', 'wii', 'keyboard']\n",
    "subdict = {k:ngrams[k] for k in keys}\n",
    "\n",
    "for key, ngrams_ in subdict.items():\n",
    "    PMIs = {}\n",
    "    for ngram, count in ngrams_.items():\n",
    "        \n",
    "        try:\n",
    "            PMIs[ngram] = PMI(count, \n",
    "                              word_counter[key], \n",
    "                              word_counter[ngram.replace(key, '').strip()],\n",
    "                              total_words)\n",
    "        except Exception:\n",
    "            pass\n",
    "            \n",
    "    PMIs = {k:v for k, v in PMIs.items() if k and v}\n",
    "    print(key, 'PMI:')\n",
    "    for i in [(k,v) for k, v in sorted(PMIs.items(), key=lambda item: item[1], reverse=True)][:10]:\n",
    "        print(i)"
   ]
  },
  {
   "cell_type": "code",
   "execution_count": null,
   "id": "83b7eb91",
   "metadata": {},
   "outputs": [],
   "source": []
  }
 ],
 "metadata": {
  "kernelspec": {
   "display_name": "Python 3 (ipykernel)",
   "language": "python",
   "name": "python3"
  },
  "language_info": {
   "codemirror_mode": {
    "name": "ipython",
    "version": 3
   },
   "file_extension": ".py",
   "mimetype": "text/x-python",
   "name": "python",
   "nbconvert_exporter": "python",
   "pygments_lexer": "ipython3",
   "version": "3.8.10"
  }
 },
 "nbformat": 4,
 "nbformat_minor": 5
}
